{
 "cells": [
  {
   "cell_type": "markdown",
   "metadata": {},
   "source": [
    "### The questions for the exercises are given above the cells and the expected output is given below the cell. Please type the code inserting a new cell below the question because if you run the expected output cell the output would vanish! Happy learning! "
   ]
  },
  {
   "cell_type": "markdown",
   "metadata": {},
   "source": [
    "## 1. Write a Python program to count the number of even and odd numbers from a series of numbers."
   ]
  },
  {
   "cell_type": "code",
   "execution_count": 8,
   "metadata": {
    "scrolled": true
   },
   "outputs": [
    {
     "name": "stdout",
     "output_type": "stream",
     "text": [
      "Enter the starting number1\n",
      "Enter the end number150\n",
      "Number of even number 74\n",
      "Number of add number 75\n"
     ]
    }
   ],
   "source": [
    "lst=[]\n",
    "ast=[]\n",
    "a=int(input('Enter the starting number'))\n",
    "b=int(input('Enter the end number'))\n",
    "for i in range(a,b):\n",
    "    if i%2 == 0:\n",
    "        lst.append(i)\n",
    "    else:\n",
    "        ast.append(i)\n",
    "print('Number of even number',len(lst))\n",
    "print('Number of add number',len(ast))"
   ]
  },
  {
   "cell_type": "markdown",
   "metadata": {},
   "source": [
    "## 2. Write a Python program to find numbers between 100 and 400 (both included) where each digit of a number is an even number. The numbers obtained should be printed in a comma-separated sequence."
   ]
  },
  {
   "cell_type": "code",
   "execution_count": 10,
   "metadata": {},
   "outputs": [
    {
     "name": "stdout",
     "output_type": "stream",
     "text": [
      "Enter the first number1\n",
      "Enter the last number100\n",
      "The even numbers are [2, 4, 6, 8, 10, 12, 14, 16, 18, 20, 22, 24, 26, 28, 30, 32, 34, 36, 38, 40, 42, 44, 46, 48, 50, 52, 54, 56, 58, 60, 62, 64, 66, 68, 70, 72, 74, 76, 78, 80, 82, 84, 86, 88, 90, 92, 94, 96, 98, 100]\n"
     ]
    }
   ],
   "source": [
    "lst=[]\n",
    "a=int(input('Enter the first number'))\n",
    "b=int(input('Enter the last number'))\n",
    "for i in range(a,b+1):\n",
    "    if i%2 ==0:\n",
    "        lst.append(i)\n",
    "print('The even numbers are',lst)"
   ]
  },
  {
   "cell_type": "markdown",
   "metadata": {},
   "source": [
    "## 3. Write a Python program to calculate a dog's age in dog's years. Go to the editor\n",
    "Note: For the first two years, a dog year is equal to 10.5 human years. After that, each dog year equals 4 human years."
   ]
  },
  {
   "cell_type": "code",
   "execution_count": 15,
   "metadata": {},
   "outputs": [
    {
     "name": "stdout",
     "output_type": "stream",
     "text": [
      "Enter the dog age2\n",
      "The dog age is 21.0\n"
     ]
    }
   ],
   "source": [
    "a=int(input('Enter the dog age'))\n",
    "if a <= 2:\n",
    "    age= a*10.5\n",
    "    print('The dog age is',age)\n",
    "elif a>2:\n",
    "    age=2*10.5+((a-2)*4)\n",
    "    print('The dog age is',age)\n",
    "else:\n",
    "    print('Please enter the correct age')\n",
    "    \n"
   ]
  },
  {
   "cell_type": "markdown",
   "metadata": {},
   "source": [
    "## 4. Write a Python function that takes a number as a parameter and check the number is prime or not."
   ]
  },
  {
   "cell_type": "code",
   "execution_count": 28,
   "metadata": {},
   "outputs": [
    {
     "name": "stdout",
     "output_type": "stream",
     "text": [
      "Enter the input number to check prime or not100\n",
      "The number is: 100\n"
     ]
    },
    {
     "data": {
      "text/plain": [
       "'False'"
      ]
     },
     "execution_count": 28,
     "metadata": {},
     "output_type": "execute_result"
    }
   ],
   "source": [
    "def primenumber(a):\n",
    "    if a%1==0 and a%a==0:\n",
    "        if a==2 or a==3 or a==5 or a==7 or a==11:\n",
    "            print ('The number is',a)\n",
    "            return 'Pass'\n",
    "        if a%2==0:\n",
    "            print('The number is:',a)\n",
    "            return 'False'\n",
    "        elif a%3==0:\n",
    "            print('The number is:',a)\n",
    "            return 'False'\n",
    "        elif a%5==0:\n",
    "            print('The number is:',a)\n",
    "            return 'False'\n",
    "        elif a%7==0:\n",
    "            print('The number is:',a)\n",
    "            return 'False'\n",
    "        elif a%11==0:\n",
    "            print('The number is:',a)\n",
    "            return 'False'\n",
    "        \n",
    "b=int(input('Enter the input number to check prime or not'))    \n",
    "primenumber(b)"
   ]
  },
  {
   "cell_type": "markdown",
   "metadata": {},
   "source": [
    "## 5. Write a Python function that accepts a string and calculate the number of upper case letters and lower case letters. Go to the editor\n"
   ]
  },
  {
   "cell_type": "code",
   "execution_count": 21,
   "metadata": {},
   "outputs": [
    {
     "name": "stdout",
     "output_type": "stream",
     "text": [
      "32\n",
      "13\n"
     ]
    }
   ],
   "source": [
    "a='Inceptz is One of The BeSt Places TO LEarn DataSciEnce'\n",
    "count1=0\n",
    "count2=0\n",
    "for i in a:\n",
    "    if(i.islower()):\n",
    "        count1=count1+1\n",
    "    elif(i.isupper()):\n",
    "        count2=count2+1\n",
    "print(count1)\n",
    "print(count2)\n"
   ]
  },
  {
   "cell_type": "code",
   "execution_count": null,
   "metadata": {},
   "outputs": [],
   "source": []
  },
  {
   "cell_type": "markdown",
   "metadata": {},
   "source": [
    "## 6. Write a Python program to reverse a string. "
   ]
  },
  {
   "cell_type": "code",
   "execution_count": 22,
   "metadata": {},
   "outputs": [
    {
     "name": "stdout",
     "output_type": "stream",
     "text": [
      "dcba\n"
     ]
    }
   ],
   "source": [
    "def reversec(a):\n",
    "    return a[::-1]\n",
    "txt=reversec('abcd')\n",
    "print(txt)\n"
   ]
  },
  {
   "cell_type": "markdown",
   "metadata": {},
   "source": [
    "## 7. Write a Python program to find  the greatest common divisor (gcd) of two integers."
   ]
  },
  {
   "cell_type": "code",
   "execution_count": 18,
   "metadata": {},
   "outputs": [
    {
     "name": "stdout",
     "output_type": "stream",
     "text": [
      "The two numbers are: (12, 14)\n",
      "The GCD of the numbers are: 2\n"
     ]
    }
   ],
   "source": []
  },
  {
   "cell_type": "code",
   "execution_count": 24,
   "metadata": {},
   "outputs": [
    {
     "name": "stdout",
     "output_type": "stream",
     "text": [
      "Enter the first number60\n",
      "Enter the second number48\n"
     ]
    },
    {
     "data": {
      "text/plain": [
       "12"
      ]
     },
     "execution_count": 24,
     "metadata": {},
     "output_type": "execute_result"
    }
   ],
   "source": [
    "import math\n",
    "a=int(input('Enter the first number'))\n",
    "b=int(input('Enter the second number'))\n",
    "math.gcd(a,b)"
   ]
  },
  {
   "cell_type": "code",
   "execution_count": null,
   "metadata": {},
   "outputs": [],
   "source": []
  }
 ],
 "metadata": {
  "kernelspec": {
   "display_name": "Python 3",
   "language": "python",
   "name": "python3"
  },
  "language_info": {
   "codemirror_mode": {
    "name": "ipython",
    "version": 3
   },
   "file_extension": ".py",
   "mimetype": "text/x-python",
   "name": "python",
   "nbconvert_exporter": "python",
   "pygments_lexer": "ipython3",
   "version": "3.8.5"
  }
 },
 "nbformat": 4,
 "nbformat_minor": 4
}
