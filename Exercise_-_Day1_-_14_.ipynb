{
 "cells": [
  {
   "cell_type": "markdown",
   "metadata": {},
   "source": [
    "### The questions for the exercises are given above the cells and the expected output is given below the cell. Please type the code inserting a new cell below the question because if you run the expected output cell the output would vanish! Happy learning! "
   ]
  },
  {
   "cell_type": "markdown",
   "metadata": {},
   "source": [
    "## Exercise Question 1: Given an input list removes the element at index 4 and add it to the 2nd position and also, at the end of the list"
   ]
  },
  {
   "cell_type": "code",
   "execution_count": 12,
   "metadata": {},
   "outputs": [
    {
     "name": "stdout",
     "output_type": "stream",
     "text": [
      "Original list [34, 54, 67, 89, 11, 43, 94]\n",
      "List After removing element at index 4 [34, 54, 67, 89, 43, 94]\n",
      "List after Adding element at index 2 [34, 54, 11, 67, 89, 43, 94]\n",
      "List after Adding element at last [34, 54, 11, 67, 89, 43, 94, 11]\n"
     ]
    }
   ],
   "source": [
    "'Assigning the value to the list'\n",
    "list_1=[34, 54, 67, 89, 11, 43, 94]\n",
    "print('Original list',list_1)\n",
    "'Removing the index 4 as per the requirement'\n",
    "list_1.pop(4)\n",
    "print('List After removing element at index 4',list_1)\n",
    "'After removing the index 4, inserting the index 2 with new value'\n",
    "list_1.insert(2,11)\n",
    "print('List after Adding element at index 2',list_1)\n",
    "'inserting the last index with the same value as index 2'\n",
    "list_1.append(11)\n",
    "'printing the list with the new value'\n",
    "print('List after Adding element at last',list_1)"
   ]
  },
  {
   "cell_type": "markdown",
   "metadata": {},
   "source": [
    "## Exercise Question 2: Given a Python list you should be able to display Python list in the following order"
   ]
  },
  {
   "cell_type": "code",
   "execution_count": 13,
   "metadata": {},
   "outputs": [
    {
     "name": "stdout",
     "output_type": "stream",
     "text": [
      "The Original List is: [100, 200, 300, 400, 500]\n",
      "The Expected result is: [500, 400, 300, 200, 100]\n"
     ]
    }
   ],
   "source": [
    "'Assigning the value to the list'\n",
    "list_2=[100, 200, 300, 400, 500]\n",
    "print('The Original List is:',list_2)\n",
    "'reverse the list using reverse function'\n",
    "list_2.reverse()\n",
    "'printing the list'\n",
    "print('The Expected result is:',list_2)"
   ]
  },
  {
   "cell_type": "markdown",
   "metadata": {},
   "source": [
    "## Exercise Question 3: Concatenate (join) two lists in the following order\n"
   ]
  },
  {
   "cell_type": "code",
   "execution_count": 14,
   "metadata": {},
   "outputs": [
    {
     "name": "stdout",
     "output_type": "stream",
     "text": [
      "The original list1: ['Hello ', 'take ']\n",
      "The original list2: ['Dear', 'Sir']\n",
      "The Expected result is: ['Hello ', 'take ', 'Dear', 'Sir']\n"
     ]
    }
   ],
   "source": [
    "'Assigning the value to the list one'\n",
    "list1=['Hello ', 'take ']\n",
    "print('The original list1:',list1)\n",
    "'Assigning the value to the list 2'\n",
    "list2=['Dear', 'Sir']\n",
    "print('The original list2:',list2)\n",
    "'Joining the two list using add function'\n",
    "list3=list1+list2\n",
    "'Printing the final list'\n",
    "print('The Expected result is:',list3)"
   ]
  },
  {
   "cell_type": "markdown",
   "metadata": {},
   "source": [
    "## Exercise Question 4: Add item 7000 after 6000 in the following Python List"
   ]
  },
  {
   "cell_type": "code",
   "execution_count": 15,
   "metadata": {
    "scrolled": false
   },
   "outputs": [
    {
     "name": "stdout",
     "output_type": "stream",
     "text": [
      "The original list is: [10, 20, [300, 400, [5000, 6000], 500], 30, 40]\n",
      "The expected list is: [10, 20, [300, 400, [5000, 6000, 7000], 500], 30, 40]\n"
     ]
    }
   ],
   "source": [
    "'Assigning thr complex  value to the list'\n",
    "list1=[10, 20, [300, 400, [5000, 6000], 500], 30, 40]\n",
    "print('The original list is:',list1)\n",
    "'Using the nested list command, inserting the requirement value '\n",
    "list1[2][2].insert(2,7000)\n",
    "'Printing the list'\n",
    "print('The expected list is:',list1)"
   ]
  },
  {
   "cell_type": "markdown",
   "metadata": {},
   "source": [
    " Exercise Question 5: Given a nested list extend it with adding sub list [\"h\", \"i\", \"j\"] in a such a way that it will look like the"
   ]
  },
  {
   "cell_type": "code",
   "execution_count": 16,
   "metadata": {},
   "outputs": [
    {
     "name": "stdout",
     "output_type": "stream",
     "text": [
      "The original List is: ['a', 'b', ['c', ['d', 'e', ['f', 'g'], 'k'], 'l'], 'm', 'n']\n",
      "The expected result is: ['a', 'b', ['c', ['d', 'e', ['f', 'g', 'h', 'i', 'j'], 'k'], 'l'], 'm', 'n']\n"
     ]
    }
   ],
   "source": [
    "'Assigning the value to the list'\n",
    "list1=['a', 'b', ['c', ['d', 'e', ['f', 'g'], 'k'], 'l'], 'm', 'n']\n",
    "print('The original List is:',list1)\n",
    "'Insert index 2'\n",
    "list1[2][1][2].insert(2,'h')\n",
    "'Insert index 3'\n",
    "list1[2][1][2].insert(3,'i')\n",
    "'Insert index 4'\n",
    "list1[2][1][2].insert(4,'j')\n",
    "'Print the value'\n",
    "print('The expected result is:',list1)"
   ]
  },
  {
   "cell_type": "markdown",
   "metadata": {},
   "source": [
    "## Exercise Question 6: Given a Python list, find value 20 in the list, and if it is present, replace it with 200. Only update the first occurrence of a value"
   ]
  },
  {
   "cell_type": "code",
   "execution_count": 11,
   "metadata": {
    "scrolled": true
   },
   "outputs": [
    {
     "name": "stdout",
     "output_type": "stream",
     "text": [
      "The original list is: [5, 10, 15, 20, 25, 50, 20]\n",
      "The expected output is: [5, 10, 15, 200, 25, 50, 20]\n"
     ]
    }
   ],
   "source": [
    "'Assigning the value to the list'\n",
    "list_1=[5, 10, 15, 20, 25, 50, 20]\n",
    "print('The original list is:',list_1)\n",
    "'identify the index of the required value'\n",
    "listindx=list_1.index(20)\n",
    "'Assigning the new value based on the index'\n",
    "list_1[listindx]=200\n",
    "print('The expected output is:', list_1)"
   ]
  },
  {
   "cell_type": "markdown",
   "metadata": {},
   "source": [
    "## Exercise Question 7: A -> Grade if the score greater or equal 90 B -> The mark is between 70(inclusive) and 90(not inclusive) C -> if the score is otherwise input -> 1) 90 2) 75 3) 65 Output -> 1) A 2) B 3) C"
   ]
  },
  {
   "cell_type": "code",
   "execution_count": 19,
   "metadata": {
    "scrolled": true
   },
   "outputs": [
    {
     "name": "stdout",
     "output_type": "stream",
     "text": [
      "Enter the Marks65\n",
      "Your grade is C\n"
     ]
    }
   ],
   "source": [
    "Marks = int(input(\"Enter the Marks\"))\n",
    "\n",
    "if Marks  >= 90:\n",
    "    print(\"Your grade is A\")\n",
    "elif Marks >=70 and Marks < 90:\n",
    "    print (\"Your grade is B\")\n",
    "else:\n",
    "    print(\"Your grade is C\")"
   ]
  }
 ],
 "metadata": {
  "kernelspec": {
   "display_name": "Python 3",
   "language": "python",
   "name": "python3"
  },
  "language_info": {
   "codemirror_mode": {
    "name": "ipython",
    "version": 3
   },
   "file_extension": ".py",
   "mimetype": "text/x-python",
   "name": "python",
   "nbconvert_exporter": "python",
   "pygments_lexer": "ipython3",
   "version": "3.8.5"
  }
 },
 "nbformat": 4,
 "nbformat_minor": 4
}
